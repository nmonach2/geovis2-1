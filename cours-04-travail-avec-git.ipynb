{
 "cells": [
  {
   "cell_type": "markdown",
   "metadata": {},
   "source": [
    "# Introduction à Git\n",
    "\n",
    "__Git__ ([http://git-scm.com](http://git-scm.com)) est un système de contrôle de versions (Version Control System = VCS) qui permet de gérer les différentes étapes de travail dans un projet. Git permet de garder une trace des versions antérieures de nos fichiers.\n",
    "\n",
    "Git travaille le mieux avec des fichiers de type texte, y compris des fichiers comme HTML, Javascript, CSV, JSON, XML etc. Il est moins efficace pour des fichiers binaires comme p.ex. des images, vidéos, fichiers ZIP, Word, Excel etc.\n",
    "\n",
    "Git permet également de garder une copie du projet complet avec tout l'historique sur un serveur central, et de travailler en parallèle sur plusieurs ordinateurs. Par contre, ce n'est pas un environnement de travail collaboratif comme par exemple Google Docs, et ce n'est pas un système de synchronisation automatique de fichiers comme Dropbox. Chaque personne qui travaille sur le projet possède sa propre copie en local, et envoie les parties complétées sur le serveur central sur commande et non automatiquement. Par contre, il est possible avec Git de travailler sur plusieurs variantes du projet en parallèle et de fusionner les différentes variantes plus tard (une variante est alors appelée une _«branche»_).\n",
    "\n",
    "Voici quelques termes importants pour le travail avec Git:\n",
    "\n",
    "- Un projet Git est appelé __«répertoire Git»__, __«Git repository»__ ou simplement __«répo Git»__. Il s'agit simplement d'un dossier sur notre disque dur qui est contrôlé avec Git (il y a alors un dossier `.git` (généralement invisible) dans le répo.\n",
    "\n",
    "- Le serveur central est appelé __«remote»__.\n",
    "\n",
    "- Git permet d'enregistrer un état précis de notre projet. On parle alors de __«commit»__. Un commit est toujours accompagné d'un commentaire (le _«message commit»_).\n",
    "\n",
    "- L'action d'envoie d'un ou plusieurs commits sur le remote est appelé __«pousser un commit»__ (push a commit). L'action de télécharger le dernier état du projet depuis le remote, par exemple après modification par un collègue, est appelé sans surprise __«tirer un commit»__ (__«pull a commit»__).\n",
    "\n",
    "Même s'il est avantageux d'utiliser un serveur central pour maintenir une copie complète du projet sur un autre ordinateur (ça peut aussi servir simplement de copie de sauvegarde), ce n'est pas strictement nécessaire. Même si on utilise Git uniquement en local, on profite de pouvoir garder les versions antérieures de notre projet et si nécessaire revenir en arrière, ou simplement de consulter les versions antérieures.\n",
    "\n",
    "Sur le Web, il y a plusieurs services qui proposent un serveur central pour nos projets Git, dont voici quelques-uns:\n",
    "\n",
    "- [Github](http://github.com) est probablement le service le plus connu. Il permet de créer un nombre infini de répértoires publics gratuits (et tout le monde peut voir notre projet). Github est par contre payant si on veut avoir des répertoires privés.\n",
    "\n",
    "- [Bitbucket](http://bitbucket.org) est une bonne alternative poru les répertoires privés. En effet, on peut créer un nombre infini de répertoires privés gratuits avec une taille maximale de 2 Go (attention, y compris l'historique!). Un répertoire privé peut être partagé avec d'autres personnes, et il est possible de créer des répertoires de groupe. Les répertoires publics sur Bitbucket sont payants.\n",
    "\n",
    "- [Gitlab.com](http://gitlab.com) est une autre alternative plus récente qui permet de créer des répertoires privés ou publics gratuits avec une taille maximale de 10 Go. Gitlab a vu le jour en 2015, et la pérennité du service reste à être établie.\n",
    "\n"

    "Il est bon à savoir qu'avec Git on peut facilement changer le serveur central pour notre projet. C'est une affaire de 3 ou 4 commandes dans le Terminal au total (le changement du serveur en tant que tel est une seule commande)."
   ]
  },
  {
   "cell_type": "markdown",
   "metadata": {},
   "source": [
    "## Créer un nouveau répo Git sur Bitbucket\n",
    "\n",
    "1. Dossier sur notre ordinateur\n",
    "2. Créer un fichier dans notre dossier (p.ex. test.md)\n",
    "3. Avec le Terminal, cd dans le dossier du projet\n",
    "4. git init\n",
    "5. Ajouter le fichier test.md sur le \"stage\": git add test.md\n",
    "6. Faire le commit de la première étape: git commit -m \"first commit\"\n",
    "\n",
    "- Créer le répo sur Bitbucket\n",
    "- Suivre les instructions du répo Bitbucket (\"I have an existing project\")\n",
    "      git remote add origin git@bitbucket.org:chkaiser/geovis2-test.git\n",
    "      git push -u origin --all\n",
    "      git push origin --tags\n",
    "\n",
    "\n"
   ]
  },
  {
   "cell_type": "markdown",
   "metadata": {},
   "source": [
    "## Télécharger un répo existant\n",
    "\n",
    "1. Dans le Terminal:\n",
    "        cd /chemin/vers/dossier/où/on/clone/le/projet\n",
    "        git clone git@bitbucket.org:chkaiser/geovis2-test.git\n",
    "        cd geovis2-test\n",
    "    L'URL peut être obtenue dans Bitbucket.\n"
   ]
  },
  {
   "cell_type": "markdown",
   "metadata": {},
   "source": [
    "## Une étape de travail avec modification de fichiers (travail tout seul)\n",
    "\n",
    "1. `cd /dossier/du/projet`\n",
    "\n",
    "- On met à jour notre projet depuis le serveur: `git pull`\n",
    "- On fait notre travail, on modifie des fichiers, on en ajoute etc.\n",
    "- Mémoriser un fichier pour un commit: `git add mon/fichier/nouveau`. Alternativement, on peut ajouter tous les fichiers modifiés en même temps: `git add -A`\n",
    "- Faire le commit: `git commit -m \"mon message\"`\n",
    "- Envoyer le tout sur le serveur: `git push`\n",
    "\n",
    "Si on arrive dans l'éditeur de texte en mode -- INSERT -- (dans vim):\n",
    "\n",
    "1. Entrer le message\n",
    "2. Taper sur `esc`\n",
    "3. Taper `:wq`\n"
   ]
  },
  {
   "cell_type": "markdown",
   "metadata": {},
   "source": [
    "## Travail à plusieurs\n",
    "\n",
    "1. Créer une nouvelle branche: `git checkout -b nouvelleBranche`\n",
    "2. On travaille normalement: `git add -A` et `git commit -m \"...\"`, mais sans `git push`\n",
    "3. On revient sur la branche `master`: `git checkout master`\n",
    "4. On fusionne le travaille: `git merge nouvelleBranche`\n",
    "5. On envoie le tout: `git push`\n",
    "\n",
    "`git branch` permet d'afficher l'ensemble des branches, et voir sur laquelle on est.\n"
   ]
  },
  {
   "cell_type": "markdown",
   "metadata": {},
   "source": [
    "  "
   ]
  }
 ],
 "metadata": {
  "kernelspec": {
   "display_name": "Python 3",
   "language": "python",
   "name": "python3"
  },
  "language_info": {
   "codemirror_mode": {
    "name": "ipython",
    "version": 3
   },
   "file_extension": ".py",
   "mimetype": "text/x-python",
   "name": "python",
   "nbconvert_exporter": "python",
   "pygments_lexer": "ipython3",
   "version": "3.6.0"
  }
 },
 "nbformat": 4,
 "nbformat_minor": 2
}
