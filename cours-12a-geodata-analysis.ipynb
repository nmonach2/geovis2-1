{
 "cells": [
  {
   "cell_type": "markdown",
   "metadata": {},
   "source": [
    "# Analyse de données géographiques: un aperçu des principaux outils\n",
    "\n",
    "Ce document n'est pas une introduction à l'analyse de données géographique. Par contre, il donne un aperçu des principales technologies utilisées. En effet, de nombreuses technologies existent, et il peut paraître difficile de savoir à quoi servent les différents logiciels, modules, librairies etc. et lequels sont les plus importants et lesquels méritent plus d'attention.\n",
    "\n",
    "Ici, nous voulons faire le point sur les technologies qui vont ensemble. Nous allons regarder les plus utilisées, les plus performants ou les plus prometteurs.\n",
    "\n",
    "Nous allons faire particulièrement attention aux points suivants:\n",
    "\n",
    "- Nous privilégions les **solutions open-source**. Ceci nous permet de rester flexibles dans à peu n'importe quel environnement de travail.\n",
    "\n",
    "\n",
    "- Nous privilégions les solutions qui permettent de **reproduire notre travail**. La reproductibilité est importante en sciences pour pouvoir vérifier nos propos. Mais elle est également importante si nous devons refaire un travail de nature similaire ou nous pouvons réutiliser au moins partiellement nos travaux précédents et ainsi devenir plus efficaces. Cette contrainte est malheureusement souvent incompatible avec une jolie interface graphique.\n",
    "\n"
   ]
  },
  {
   "cell_type": "markdown",
   "metadata": {},
   "source": [
    "## 1. Calcul scientifique (et statistique)\n",
    "\n",
    "- [**Matlab**](http://mathworks.com/products/matlab) et l'équivalent open-source [*Octave*](https://gnu.org/software/octave/). Matlab est un logiciel commercial et traditionnellement utilisé par de nombreux ingénieurs et chercheurs. L'équivalent open-source Octave est très similaire et reprend les fonctionnalités principales de Matlab mais ne garantit pas l'utilisations de la totalité des nombreux modules et librairies externes sans changements.\n",
    "\n",
    "\n",
    "- [**R**](https://www.r-project.org) est un langage et logiciel dont le but premier est la calcul statistique. Malgré cette limitation apparente, R peut être utilisé dans de nombreuses situtations et il est très flexible. De nombreux paquets permettent de rajouter des fonctions spécifiques supplémentaires, dont par exemple pour les statistiques spatiales ou même la cartographie.\n",
    "\n",
    "\n",
    "- [**Python**](https://www.python.org) est tout d'abord un langage de programmation dit \"general purpose\", donc à \"usage général\". Python est relativement facile à apprendre, et de nombreux modules (librairies) permettent d'ajouter des fonctionnalités supplémentaires. Notamment pour l'analyse de données, de nombreux modules existent qui font que ce langage est devenu très populaire pour cette application. En plus, Python est utilisé fréquemment dans le contexte des SIG, et il est ainsi devenu un langage privilégié pour l'analyse de données géographiques.\n",
    "\n",
    "\n",
    "Par la suite, nous allons nous concentrer sur les deux derniers, dans la perspective de favoriser les solutions open-source et aussi car R et Python ont gagné beaucoup en popularité ces dernières années dans le domaine de l'analyse de données.\n",
    "\n",
    "Par ailleurs, des passerelles existent entre R et Python. Ainsi, le projet [rpy2 ](http://rpy2.bitbucket.org) permet d'utiliser R depuis Python, et [rPython](http://rpython.r-forge.r-project.org) fait la passerelle dans l'autre sens. Le récent projet [Feather](https://github.com/wesm/feather) (voir aussi le [blog de Cloudera](http://blog.cloudera.com/blog/2016/03/feather-a-fast-on-disk-format-for-data-frames-for-r-and-python-powered-by-apache-arrow/)) propose un format de fichier pour facilement échanger des \"data frames\" entre R et Python/[Pandas](http://pandas.pydata.org) (un \"data frame\" est une structure de données tabulaires dans R similaire à un fichier CSV, et Pandas, prononcé Panda-S, un module Python pour le traitement et analyse de données, présenté plus loin).\n",
    "\n",
    "Par la suite, nous présentons différentes technologies qui se rapportent généralement à l'un ou l'autre de ces deux langages, et pour la plupart nous allons essayer de donner des exemples simples d'utilisation."
   ]
  },
  {
   "cell_type": "markdown",
   "metadata": {},
   "source": [
    "## 2. Documentation scientifique\n",
    "\n",
    "\n",
    "Pour pouvoir reproduire notre travail tel qu'une analyse de données géographiques, nous devons documenter l'ensemble du processus. Dans l'idéal, nous devons pouvoir mettre à disposition nos documents et données à une autre personne qui devrait être en mesure de refaire notre travail sans notre aide. Aussi, au niveau des calculs effectués, il devrait être possible de les refaire sans problème pour vérifier leur exactitude. Ceci permet également de reprendre notre travail plus tard et l'adapter à une nouvelle problématique.\n",
    "\n",
    "### 2.1 LaTeX\n",
    "\n",
    "Depuis des décennies, le langage par excellence pour l'écriture d'articles scientifiques est [LaTeX](http://www.latex-project.org) (prononcé \"lah-tek\"), au moins dans les sciences qui utilisent passablement de formules mathématiques. Ainsi, nous pouvons écrire des documents et livres complexes avec des simples fichiers texte (dont l'extension sera `.tex`). Par la suite, le code LaTeX sera compilé (comme un langage de programmation) pour en produire typiquement un fichier PDF. Avec LaTeX, nous pouvons par exemple écrire une formule (même très complexe) simplement avec du texte, p.ex.\n",
    "\n",
    "    $d = \\sqrt{ (x_2 - x_1)^2 + (y_2 - y_1)^2 }$\n",
    "\n",
    "ce qui donne\n",
    "\n",
    "$d = \\sqrt{ (x_2 - x_1)^2 + (y_2 - y_1)^2 }$\n",
    "\n",
    "LaTeX permet également de gérer des références bibliographiques de manière efficace. De nombreaux journaux scientifiques demandent la soumission d'articles en format LaTeX.\n",
    "\n",
    "Par ailleurs, LaTeX permet de générer des travaux volumineux de manière relativement simple, y compris table des matières etc. Tout le formatage, ou presque, se fait de manière automatique. La sortie sous forme de fichier PDF est en principe de très haute qualité.\n",
    "\n",
    "Aujourd'hui, LaTeX gagne de la popularité aussi dans d'autres domaines que les domaines traditionnels, dont aussi dans les sciences humaines et sociales (voir le livre [(Xe)LaTeX appliqué aux sciences humaines](http://geekographie.maieul.net/95) et aussi le [blog Géosources du CeDoc de l'IGD](http://www.geosources.ch/wp/latex-aussi-pour-les-sciences-humaines/)).\n",
    "\n",
    "\n",
    "### 2.2 Markdown\n",
    "\n",
    "[Markdown](http://daringfireball.net/projects/markdown/) est un langage pour facilement formater des documents simples. Les documents textes (généralement avec extension `.md`) sont toujours faciles à lire par l'humain. À l'origine, Markdown n'était pas prévu pour la documentation scientifique, mais plutôt pour écrire des petits fichiers style \"README\". Ce langage est construit de manière à pouvoir convertir les documents facilement en documents HTML.\n",
    "\n",
    "Le Markdown étant relativement limité, il y a de nombreuses tentatives de l'étendre avec d'autres fonctionnalités, comme la création de tableaux ou de formules. Ainsi, il y a un nombre relativement élevé de variantes du Markdown qui existent en parallèle et qui se nomment tous \"format Markdown\", non sans créer une certaine confusion. Malgré ça, le Markdown a fait son entrée dans la documentation scientifique, notamment à travers les Jupyter notebooks et l'utilitaire de conversion Pandoc, décrits ci-dessous.\n",
    "\n",
    "\n",
    "### 2.3 Jupyter notebooks (iPython notebooks)\n",
    "\n",
    "Les [Jupyter notebooks](http://jupyter.org) proviennent du projet [iPython](http://ipython.org) qui a le but de créer un environnement de calcul interactif sur la base de Python.\n",
    "\n",
    "Un Jupyter notebook permet de combiner dans un document des containeurs (appelés *\"cells\"*) de différents types, dont des containeurs Markdown ou des containeurs de code qui est exécuté directement dans le notebook. Ainsi, il est possible de combiner du texte avec des calculs potentiellement assez lourds.\n",
    "\n",
    "Il est possible d'étendre la version de base des Jupyter notebooks avec d'autres *kernels* de calcul (avec des langages de programmation différents) et d'autres types de cellules.\n",
    "\n",
    "Venant du projet iPython, le langage Python est évidemment disponible comme langage de programmation, mais il y a bien d'autres *kernels*, notamment pour *R*, Matlab, Octave, Javascript, Ruby, Java (version >= 9), Lua/Torch (Torch est une libraire pour le machine learnnig) etc. Une liste de kernels disponibles est disponible [ici sur Github](https://github.com/ipython/ipython/wiki/IPython-kernels-for-other-languages). (Il y a même un kernel pour [Brainfuck](https://fr.wikipedia.org/wiki/Brainfuck), le langage de programmation le plus inutile et qui ne porte son nom pas par hasard.)\n",
    "\n",
    "Les cellules Markdown permettent aussi d'insérer des formules mathématiques avec la syntaxe emprunté à LaTeX. Par ailleurs, il est aussi possible d'ajouter une extension pour avoir des cellules en LaTeX directement.\n",
    "\n",
    "Les Jupyiter notebooks sont construits sur une architecture serveur Web et application Web qui tourne dans le navigateur Web. Il est facile de les faire tourner sur notre propre ordinateur. En effet, il suffit en principe d'installer iPython et taper dans la console `ipython notebook` pour les démarrer. Un notebook correspond alors à un fichier sur le disque dur avec extension `.ipynb`.\n",
    "\n",
    "Un notebook déposé à une adresse Web publique peut être visualisé simplement avec le [Jupyter Notebook Viewer](http://nbviewer.jupyter.org) et ainsi partagé avec le monde entier. Solution facile: déposer les fichiers sur [Github](https://github.com) et utiliser l'URL vers le Notebook dans le NBViewer.\n",
    "\n",
    "Un Jupyter notebook est une excellente solution pour documenter nos analyses ou le processus d'une recherche et en même temps d'insérer les résultats des calculs, y compris des figures calculées.\n",
    "\n",
    "\n",
    "\n",
    "### 2.4 Documents scientifiques dynamiques\n",
    "\n",
    "[Sweave](http://www.statistik.lmu.de/~leisch/Sweave/) est un outil qui permet d'intégrer à l'intérieur d'un document LaTeX du code R qui est executé au moment de la compilation du document LaTeX. Ainsi, il est possible d'intégrer directement à l'intérieur d'un document scientifique les calculs et analyses effectués. Si l'analyse ou les calculs changent, il suffit alors de recompiler le document. Sweave est un outil très performant étant donné que LaTeX permet de créer des documents volumineux et complexes et que R est le langage de calcul statistique par excellence avec possibilité de créer des graphiques et cartes.\n",
    "\n",
    "[Pweave](http://mpastell.com/pweave/) est similaire à Sweave, mais en utilisant le langage Python. Pweave supporte plusieurs formats \n",
    "\n",
    "[knitr](http://yihui.name/knitr/) est encore une autre possibilité pour générer des rapports dynamiques avec R, mais qui est ouvert à d'autres langages tel que Python, et qui n'accepte pas seulement du LaTex mais aussi du Markdown par exemple.\n",
    "\n",
    "[R Markdown](http://rmarkdown.rstudio.com) permet d'intégrer du code R à l'intérieur d'un document Markdown.\n",
    "\n",
    "\n",
    "\n",
    "### 2.5 Conversion de différents formats\n",
    "\n",
    "Un problème fréquent des différents formats de fichiers tel que LaTeX, Markdown, HTML ou autres est la conversion dans un autre format. L'outil le plus puissant à ce niveau est [**Pandoc**](http://pandoc.org). Il s'agit d'un petit logiciel ligne de commande qui prend en entrée un document en format LaTeX, Markdown, HTML et quelques autres et le convertit en ces mêmes formats ou bien d'autres encore, dont le format Word ou le PDF en passant par LaTeX. Il peut également produire une présentation style PowerPoint mais en HTML, par exemple en utilisant un fichier Markdown.\n"
   ]
  },
  {
   "cell_type": "markdown",
   "metadata": {},
   "source": [
    "## 3. Gestion des données\n",
    "\n",
    "Dans l'analyse de données, nous devons avoir la possibilité de gérer potentiellement des grands volumes de données. Aussi, il est important de nous assurer que le format de stockage est suffisamment simple et standardisé pour que nous ayons une garantie de pouvoir lire les données encore dans 10 ou 20 ans. Nous allons donc en principe éviter de recourir à des fichiers binaires, mais plutôt opter pour des fichiers texte avec un formatage particulier.\n",
    "\n",
    "Dans la pratique, nous allons souvent avoir un des formats suivants:\n",
    "\n",
    "- **CSV** (*comma-separated values*) ou similiaire comme par exemple le **TSV** (*tab-separated values*).\n",
    "\n",
    "    C'est un tableau simple avec des lignes et colonnes. La première ligne contient généralement les noms des colonnes (qui correspondent à des variables).\n",
    "    \n",
    "    L'avantage des fichiers CSV est que nous pouvons facilement lire uniquement une partie du fichier et qu'il est extrêmement facile à les lire p.ex. avec un script Python ou autre. De ce fait, dès que nous devons traiter des tableaux simples avec des millions d'entrées, nous allons les stocker au moins dans un premier temps sous forme de fichier CSV.\n",
    "    \n",
    "    Le désavantage est que nous sommes malgré tout relativement limités, surtout si nous avons plusieurs tableaux liés les uns aux autres.\n",
    "\n",
    "    Pour l'archivage, les fichiers CSV peuvent être compressés facilement (utiliser alors un format très courant, ZIP ou GZIP).\n",
    "\n",
    "\n",
    "- **SQL** qui est en grande partie standardisé. Chaque logiciel de base de données SQL possède généralement quelques variantes au niveau du SQL. Mais à condition de rester avec le même logiciel, on peut lire les données avec pratiquement toutes les versions. Souvent, il est également possible de manuellement format les fichiers SQL pour une autre base de données. Nous avons donc une relativement bonne garantie que nous allons pouvoir lire nos données plus tard.\n",
    "\n",
    "\n",
    "- [**JSON**](http://json.org) est un format issu de Javascript et des applications Web. Il s'agit d'un format texte (extension `.json`) avec un formatage qui ressemble un peu à Javascript, par exemple:\n",
    "\n",
    "      {\n",
    "        \"nom\": \"Einstein\",\n",
    "        \"prenom\": \"Albert\",\n",
    "        \"age\": 102,\n",
    "        \"description\": \"E = mc^2\",\n",
    "        \"amis\": [\n",
    "            \"Isaac Newton\",\n",
    "            \"Marie Curie\",\n",
    "            \"Leonardo Da Vinci\",\n",
    "            \"James Bond\"\n",
    "        ]\n",
    "      }\n",
    "\n",
    "    Ce format a l'avantage d'être facile à lire et écrire par l'humain et l'ordinateur. Il est surtout utilisé dans les applications Web.\n",
    "    \n",
    "    Le [**GeoJSON**](http://geojson.org) est un fichier JSON qui respecte un certain formatage bien précis pour représenter des fichiers SIG vectoriels, donc équivalent à un fichier Shape. Les fichiers GeoJSON peuvent être lu facilement par la libraire de cartographie interactive [Leaflet](http://leafletjs.com).\n",
    "\n",
    "\n",
    "\n",
    "### 3.1 Bases de données\n",
    "\n",
    "Une base de données permet de gérer des données à l'intérieur d'un logiciel, dans le but d'interroger les données de manière efficace, de les analyser et les utiliser. La base de données n'est pas une archive de données qui peut servir de sauvegarde par exemple. Une base de données nécessite de faire tourner le logiciel pour être utile. Si le logiciel évolue, suite à une mise à jour, les données doivent souvent aussi être mis à jour.\n",
    "\n",
    "La base de données est donc très puissante et pratique pour travailler avec les donneés que nous utilisons activement. Par contre, pour archiver les données quelque part dans un endroit sûr, nous utilisons des fichiers de type CSV, SQL pour les bases de données relationnelles, ou JSON, typiquement pour les bases de données no-SQL (p.ex. [MongoDB](https://www.mongodb.org)).\n",
    "\n",
    "\n",
    "[**PostgreSQL**](http://www.postgresql.org) est une base de données relationnelle open-source très puissante qui peut servir à la gestion de très grands jeux de données, et aussi à des calculs très lourds, à condition de bien l'utiliser.\n",
    "\n",
    "[**PostGIS**](http://postgis.net) est une extension SIG pour PostgreSQL, ce qui rend cette base de données très populaire pour la gestion de données géographiques.\n",
    "\n",
    "PostgreSQL peut être utilisé également depuis des languages de programmation, à l'aide de libraires externes. Par exemple dans R, le module [RPostgreSQL ](https://cran.r-project.org/web/packages/RPostgreSQL/index.html) permet de nous connecter à la base de données et effectuer des requêtes SQL.\n",
    "\n",
    "Dans Python, le module [psycopg2](http://initd.org/psycopg/) fait la même chose. Supposons que nous avons tout installé et créé une base de données `geovis`. Nous pouvons alors créer des tables, insérer des données, et interroger la base de données, tout depuis Python:\n"
   ]
  },
  {
   "cell_type": "code",
   "execution_count": 10,
   "metadata": {
    "collapsed": false
   },
   "outputs": [],
   "source": [
    "# Charger le module psycopg2 dans la variable db\n",
    "import psycopg2 as db\n",
    "\n",
    "# Établir la connextion. \n",
    "# Il peut être nécessaire de spécifier le nom d'utilisateur, mot de passe etc.\n",
    "conn = db.connect(\"dbname=geovis\")\n",
    "\n",
    "# Demander un curseur. Le curseur permet d'exécuter une requête SQL.\n",
    "# Plusieurs curseurs peuvent être obtenus par connection,\n",
    "# et nous pouvons exécuter plusieurs requêtes l'une après l'autre avec un seul curseur.\n",
    "cur = conn.cursor()\n",
    "\n",
    "# Créer une nouvelle table poi (points of interest)\n",
    "# (et la supprimer avant de commencer si elle existe pour pouvoir faire tourner\n",
    "# le code plusieurs fois avec le même résultat)\n",
    "cur.execute(\"DROP TABLE IF EXISTS poi\")\n",
    "cur.execute(\"\"\"CREATE TABLE poi (\n",
    "                id serial PRIMARY KEY, \n",
    "                nom varchar(60), \n",
    "                coord geometry)\"\"\"\n",
    ")\n",
    "\n",
    "# Insérer des données dans la table\n",
    "cur.execute(\n",
    "    \"INSERT INTO poi (nom, coord) VALUES (%s, ST_GeomFromText(%s, 21781))\",\n",
    "    ('UNIL', 'POINT(534078 153156)')\n",
    ")\n",
    "\n",
    "# Faire un commit:\n",
    "# Appliquer tous les changements depuis le début en bloc.\n",
    "# En cas d'erreur dans une des requêtes effectuées, la base de données\n",
    "# ne sera pas modifiée.\n",
    "conn.commit()\n",
    "\n",
    "# Interroger la base de données:\n",
    "cur.execute(\"SELECT ST_AsGeoJSON(ST_Buffer(coord, 100)) FROM poi\")\n",
    "\n",
    "# Récuperer le résultat\n",
    "poi_buffers = cur.fetchall()"
   ]
  },
  {
   "cell_type": "markdown",
   "metadata": {},
   "source": [
    "Nous avons donc fait une zone tampon autour de Géopolis, que nous pouvons visualiser (nous allons voir plus de détails sur les différents modules impliqués plus loin):"
   ]
  },
  {
   "cell_type": "code",
   "execution_count": 12,
   "metadata": {
    "collapsed": false,
    "scrolled": true
   },
   "outputs": [
    {
     "data": {
      "image/png": "[encoded data removed]",
      "text/plain": [
       "<matplotlib.figure.Figure at 0x1066b9490>"
      ]
     },
     "metadata": {},
     "output_type": "display_data"
    }
   ],
   "source": [
    "import json\n",
    "geopolis_buffer = json.loads(poi_buffers[0][0])\n",
    "\n",
    "%matplotlib inline\n",
    "import matplotlib.pyplot as plt \n",
    "from descartes import PolygonPatch\n",
    "\n",
    "fig = plt.figure() \n",
    "ax = fig.gca()\n",
    "ax.add_patch(PolygonPatch(geopolis_buffer, fc='#99ccff', ec='#003366', alpha=0.8, zorder=2 ))\n",
    "ax.axis('scaled')\n",
    "plt.show()"
   ]
  },
  {
   "cell_type": "markdown",
   "metadata": {},
   "source": [
    "Il y a certainement des cartes plus élaborées, mais c'est un début et amplément suffisant pour nous convaincre que nous avons calculé quelque chose qui pourrait être correct."
   ]
  },
  {
   "cell_type": "markdown",
   "metadata": {},
   "source": [
    "## 4. R\n",
    "\n",
    "[R](https://www.r-project.org) est l'environnement de calcul statistique par excellence. R peut tourner dans le Terminal, mais il y a plusieurs interfaces (toujours ligne de commande) un peu plus évolués. [RStudio](https://www.rstudio.com) est certainement un des plus utilisés à ce niveau.\n",
    "\n",
    "R possède de nombreux paquets pour l'analyse spatiale, la visualisation et la cartographie.\n",
    "\n",
    "Nous n'allons pas approfondir les possibilités de R ici, mais il y a de nombreux tutoriels et depuis peu aussi un excellent livre par deux vrais connaisseurs de R:  \n",
    "Brunsdon, C. et Comber, L. (2015). *An Introduction to R for Spatial Analysis and Mapping.* SAGE Publications.  \n",
    "\n",
    "Une autre ressource précieuse: Lovelace, R., Cheshire, J. et autres (2015). *Introduction to visualising spatial data in R.* [https://github.com/Robinlovelace/Creating-maps-in-R](https://github.com/Robinlovelace/Creating-maps-in-R)"
   ]
  },
  {
   "cell_type": "markdown",
   "metadata": {},
   "source": [
    "## 5. Python\n",
    "\n",
    "Étant donné que Python est un langage de programmation et pas un environnement de calcul ou de visualisation, il ne permet pas de faire grand chose sans extension. Cependant, de nombreuses extensions existent pour faire des analyses statistiques et spatiales. Nous allons en voir les extensions les plus importantes ou les plus utiles.\n",
    "\n",
    "Au niveau de l'installation, [Anaconda](https://www.continuum.io/downloads) est un bon point de départ qui a déjà un grand nombre de modules Python installé. Alternativement, il y a aussi [Enthought Canopy](https://www.enthought.com/products/canopy/) ou, pour Windows, [Python(x,y)](http://python-xy.github.io).\n",
    "\n",
    "\n",
    "### 5.1 NumPy\n",
    "\n",
    "[NumPy](http://www.numpy.org) (Numerical Python) est le module de base pour à peu près tous les autres modules de calcul scientifique. Numpy propose des structures de données efficaces pour les arrays (vecteurs) et matrices à n dimensions, ainsi que des fonctions pour l'algèbre linéaire (calcul matriciel), transformations de Fourier et la génération de nombres aléatoires.\n",
    "\n",
    "Nous allons rencontrer Numpy assez fréquemment à travers d'autres modules plus spécifiques.\n",
    "\n",
    "Voici un exemple comment créer une matrice 4x5 toute simple:\n",
    "\n"
   ]
  },
  {
   "cell_type": "code",
   "execution_count": 15,
   "metadata": {
    "collapsed": false
   },
   "outputs": [
    {
     "name": "stdout",
     "output_type": "stream",
     "text": [
      "[[ 0  1  2  3  4]\n",
      " [ 5  6  7  8  9]\n",
      " [10 11 12 13 14]\n",
      " [15 16 17 18 19]]\n"
     ]
    }
   ],
   "source": [
    "import numpy as np\n",
    "m = np.arange(20).reshape(4, 5)\n",
    "print(m)"
   ]
  },
  {
   "cell_type": "markdown",
   "metadata": {},
   "source": [
    "Et nous pouvons faire facilement des calculs avec, par exemple une multiplication par 2:"
   ]
  },
  {
   "cell_type": "code",
   "execution_count": 16,
   "metadata": {
    "collapsed": false
   },
   "outputs": [
    {
     "name": "stdout",
     "output_type": "stream",
     "text": [
      "[[ 0  2  4  6  8]\n",
      " [10 12 14 16 18]\n",
      " [20 22 24 26 28]\n",
      " [30 32 34 36 38]]\n"
     ]
    }
   ],
   "source": [
    "print(m*2)"
   ]
  },
  {
   "cell_type": "markdown",
   "metadata": {},
   "source": [
    "Numpy est tout à fait à la hauteur en ce qui concerne le calcul matriciel avec des logiciels commerciaux professionnels tel que Matlab, à la fois au niveau des possibilités et au niveau de la vitesse de calcul."
   ]
  },
  {
   "cell_type": "markdown",
   "metadata": {},
   "source": [
    "\n",
    "### 5.2 SciPy\n",
    "\n",
    "[SciPy](http://scipy.github.io) est un autre module de base pour le calcul scientifique avec Python. Il y a un grand nombre de fonctions pour le calcul scientifique à travers plusieurs sous-modules, dont par exemple les statistiques (`scipy.stats`) ou les triangulations de Delaunay (`scipy.spatial`).\n",
    "\n",
    "Comme pour Numpy, nous allons peu utiliser Scipy directement. Par contre, nous allons rencontrer ce module à travers d'autres modules (p.ex. statsmodels ou scikit-learn).\n",
    "\n",
    "\n",
    "### 5.3 Pandas\n",
    "\n",
    "[Pandas](http://pandas.pydata.org) (pronconcé *panda-s*) contient des structures de données et outils pour l'analyse de données. Pandas permet notamment de préparer les jeux de données de manière simple et efficace. Puis il s'intègre bien avec d'autres modules d'analyse de données et de visualisation simple.\n",
    "\n",
    "#### 5.3.1 GeoPandas\n",
    "\n",
    "[GeoPandas](http://geopandas.org) est une extension de Pandas pour travailler avec des données spatiales. GeoPandas utilise notamment [Shapely](#5.10-Shapely), [fiona](#5.13-fiona), [descartes](#5.11-descartes) et [matplotlib](#5.4-Matplotlib), qui sont décrits un peu plus loin.\n",
    "\n",
    "\n",
    "### 5.4 Matplotlib\n",
    "\n",
    "[Matplotlib](http://matplotlib.org) permet de créer des graphiques scientifiques avec Python, un peu similaire à ce qui est possible dans R, Matlab ou encore Mathematica.\n",
    "\n",
    "\n",
    "### 5.5 Seaborn\n",
    "\n",
    "[Seaborn](http://stanford.edu/~mwaskom/software/seaborn/index.html) est un autre module de visualisation, spécialisé dans les visualisations d'analyses statistiques. Il utilise Matplotlib derrière les scènes.\n",
    "\n",
    "\n",
    "### 5.6 Bokeh\n",
    "\n",
    "[Bokeh](http://bokeh.pydata.org/) est une autre libraire de visualisation pour Python, cette fois indépendant de Matplotlib et potentiellement avec des graphiques interactifs.\n",
    "\n",
    "Bokeh est certainement plus avancé par rapport à ce que nous entendons par visualisation, mais reste limité pour la géovisualisation interactive. En effet, nous allons nous tourner vers d'autres outils, mais pour une analyse exploratoire et la création de quelques graphiques statistiques, tous ces modules Python font parfaitement l'affaire.\n",
    "\n",
    "\n",
    "\n",
    "### 5.7 statsmodels\n",
    "\n",
    "[statsmodels](http://statsmodels.sourceforge.net) propose les méthodes statistiques classiques comme régression ou ANOVA.\n",
    "\n",
    "\n",
    "### 5.8 scikit-learn\n",
    "\n",
    "[scikit-learn](http://scikit-learn.org) est un module pour l'analyse de données avec des méthodes de classification, regression, clustering, réduction de la dimensionalité (p.ex. ACP) etc.\n",
    "\n",
    "\n",
    "### 5.9 GDAL / OGR\n",
    "\n",
    "[GDAL](http://gdal.org) est une libraire qui permet de manipuler des données SIG en format raster et, à travers OGR qui est également intégré dans GDAL, des données SIG en format vecteur. GDAL est une libraire C resp. C++ au départ, mais pour laquelle une intégration dans Python existe. GDAL vient également avec une série de petits logiciels ligne de commande comme `gdalinfo`, `gdal_translate`, `ogr2ogr` etc.\n",
    "\n",
    "GDAL tout comme OGR sont intégrés dans la plupart des logiciels SIG, en raison du grand nombre de formats de fichiers que la libraire peut gérer: presque 150 formats raster, dont évidemment GeoTIFF, ERDAS Imagine, ENVI, Idrisi, MBTiles, et des bien plus exotiques, ainsi que plus de 80 formats vecotriels, dont ESRI Shapefile, GeoJSON, Mapinfo, GPX, Interlis, KML, ESRI File Geodatabase, ESRI Personal GeoDatabase, PostGIS, etc.\n",
    "\n",
    "Pour les fichiers raster, GDAL permet surtout de lire n'importe quel fichier dans un array Numpy qui peut être manipulé en utilisant les fonctions standard, et qui peut être écrit à nouveau dans le fichier.\n",
    "\n",
    "Pour les fichiers vectorielles, OGR peut lire et écrire les fichiers et effectuer des opérations spatiales entre deux géométries, par exemple pour savoir si les deux géométries s'intersectent, si l'une géométrie se trouve dans l'autre, de calculer une union, intersection, différence etc. Cependant, OGR n'est pas tout à fait simple dans l'utilisation pratique. Les libraires [fiona](http://toblerity.org/shapely/) et [Shapely](http://toblerity.org/shapely/) font grosso modo la même chose mais sont (beaucoup) plus simples dans l'utilisation. En conséquence, souvent on utilisera GDAL pour les données raster (ou alternativement [Rasterio](#5.14-Rasterio)), et Fiona et Shapely pour les données vectorielles (parfois à travers d'autres libraires, p.ex. [GeoPandas](#5.3.1-GeoPandas)).\n",
    "\n",
    "\n",
    "### 5.10 Shapely\n",
    "\n",
    "[Shapely](http://toblerity.org/shapely/) permet de manipuler des données SIG vectorielles. Par rapport à OGR, Shapely possède uniquement un nombre très limité de formats, comme le GeoJSON, WKT (Well-Known Text) et WKB (Well-Known Binary). Ces formats peuvent être facilement générés depuis PostGIS. Un fichier Shape peut être converti d'abord en GeoJSON (p.ex. avec `ogr2ogr` ou simplement en l'exportant depuis QGIS).\n",
    "\n",
    "Par la suite, Shapely peut effectuer toutes les opérations spatiales sur les géométries (intersection, union, buffer, etc.), et aussi calculer les surfaces, longueurs et distances. Il est également possible d'obtenir le centroïde ou encore un point un peu au hasard mais qui sera toujours à l'intérieur d'un polygone (ce qui n'est pas le cas avec le centroïde pour certaines formes géométriques, comme p.ex. la commune de Lausanne où le centroïde est à Épalinges).\n",
    "\n",
    "\n",
    "### 5.11 Descartes\n",
    "\n",
    "[descartes](https://pypi.python.org/pypi/descartes) prend simplement des géométries Shapely (ou l'équivalent GeoJSON) et les dessine à l'aide de Matplotlib. Pratique pour une visualisation rapide.\n",
    "\n",
    "\n",
    "### 5.12 PySAL (Python Spatial Analysis Library)\n",
    "\n",
    "[PySAL](http://pysal.org) est une librairie Python du GeoDa Center for GeoSpatial Analysis and Computation de l'Arizona State University. PySAL vient du groupe de Luc Anselin et Serge Rey. Le même groupe a aussi créé [GeoDa](https://geodacenter.asu.edu/projects/opengeoda).\n",
    "\n",
    "PySAL permet de calculer par exemple l'auto-corrélation spatiale (Moran's I, Geary's C, Getis and Ord's G, Local Moran's I, Local G and G*) et propose aussi des algorithmes de régionalisation.\n",
    "\n",
    "PySAL travaille aussi très bien ensemble avec Shapely, mais permet en plus de lire des fichiers Shape directement.\n",
    "\n",
    "\n",
    "### 5.13 fiona\n",
    "\n",
    "*[Fiona](http://toblerity.org/fiona) is OGR’s neat, nimble, **no-nonsense** API.* Donc en français, c'est la même chose que OGR, sauf en version utilisable. Il me semble que c'est assez clair... Fait par [Sean Gillies](https://github.com/sgillies) qui est aussi un des auteurs principaux pour Shapely.\n",
    "\n",
    "\n",
    "### 5.14 Rasterio\n",
    "\n",
    "**[Rasterio](https://github.com/mapbox/rasterio)** est une alternative à GDAL."
   ]
  },
  {
   "cell_type": "markdown",
   "metadata": {},
   "source": [
    "## 7. Quelques références\n",
    "\n",
    "### LaTeX\n",
    "\n",
    "- Rouquette, M. (2012). *(Xe)LaTeX appliqué aux sciences humaines.* Atramenta. ISBN 978-952-273-073-2. [http://geekographie.maieul.net/95](http://geekographie.maieul.net/95)\n",
    "\n",
    "\n",
    "### R\n",
    "\n",
    "- Brunsdon, C. et Comber, L. (2015). *An Introduction to R for Spatial Analysis and Mapping.* SAGE Publications.  \n",
    "    *Excellent livre pour tous ceux qui veulent utiliser R pour l'analyse spatiale.*\n",
    "\n",
    "\n",
    "### Python\n",
    "\n",
    "- Swinnen, G. (2003). *Apprendre à programmer avec Python*. URL: [https://framasoft.org/article1971.html](https://framasoft.org/article1971.html)\n",
    "\n",
    "#### Python pour l'analyse de données et la visualisation\n",
    "\n",
    "- Kaiser, C. (2011). [*Utiliser Python avec des données géographiques: une introduction.*](https://github.com/christiankaiser/geopython)  \n",
    "    *Petit livret qui date déjà mais qui donne un courte introduction à Python et un aperçu de quelques librairies utiles pour le traitement de données géographiques.*\n",
    "\n",
    "\n",
    "- Milovanovic, I., Foures, D. et Vettigli, G. (2015). *Python Data Visualization Cookbook: Over 70 recipes to get you started with popular Python libraries based on the principal concepts of data visualization*. 2nd edition. Packt Publishing. ISBN 978-1-78439-669-5. [*Voir description sur it-ebooks.info*](http://it-ebooks.info/book/6731/)\n",
    "\n",
    "\n",
    "- Raichand, A. (2015). *Practical Data Analysis with Python*. LeanPub. URL: [https://leanpub.com/analyticshandbook](https://leanpub.com/analyticshandbook). See also: [http://wavedatalab.github.io/datawithpython](http://wavedatalab.github.io/datawithpython/index.html).\n",
    "\n",
    "\n",
    "- Westra, E. (2013). *Python Geospatial Development: Learn to build sophisticated mapping applications from scratch using Python tools for geospatial development*. 2nd edition, Packt Publishing. ISBN 978-1-78216-152-3. [*Voir description sur it-ebooks.info*](http://it-ebooks.info/book/2921/)\n"
   ]
  },
  {
   "cell_type": "code",
   "execution_count": null,
   "metadata": {
    "collapsed": true
   },
   "outputs": [],
   "source": []
  }
 ],
 "metadata": {
  "kernelspec": {
   "display_name": "Python 3",
   "language": "python",
   "name": "python3"
  },
  "language_info": {
   "codemirror_mode": {
    "name": "ipython",
    "version": 3
   },
   "file_extension": ".py",
   "mimetype": "text/x-python",
   "name": "python",
   "nbconvert_exporter": "python",
   "pygments_lexer": "ipython3",
   "version": "3.6.0"
  },
  "latex_envs": {
   "LaTeX_envs_menu_present": true,
   "bibliofile": "biblio.bib",
   "cite_by": "apalike",
   "current_citInitial": 1,
   "eqLabelWithNumbers": true,
   "eqNumInitial": 1,
   "labels_anchors": false,
   "latex_user_defs": false,
   "report_style_numbering": false,
   "user_envs_cfg": false
  }
 },
 "nbformat": 4,
 "nbformat_minor": 0
}
