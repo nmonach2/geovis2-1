{
 "cells": [
  {
   "cell_type": "markdown",
   "metadata": {},
   "source": [
    "# Introduction au SVG"
   ]
  },
  {
   "cell_type": "markdown",
   "metadata": {},
   "source": [
    "Le SVG (Scalable Vector Graphics) est un langage similaire au HTML, mais spécifiquement pour la création de graphiques vectorielles. Tandis que nous avions vu au cours de Géovis 1 comment créer un graphique SVG avec Illustrator et l'intégrer dans une page HTML, nous allons voir ici le langage SVG lui-même. Ceci nous sera utile pour créer des visualisations interactives plus avancées."
   ]
  },
  {
   "cell_type": "markdown",
   "metadata": {
    "heading_collapsed": true
   },
   "source": [
    "## 1. Un premier exemple simple"
   ]
  },
  {
   "cell_type": "markdown",
   "metadata": {
    "hidden": true
   },
   "source": [
    "Un graphique SVG est inclut à l'intérieur d'une balise `<svg>...</svg>`, même à l'intérieur d'un code HTML. Voici un exemple (voir résultat [ici](http://jsbin.com/cocugif/edit?html,output)):\n",
    "```html\n",
    "<html>\n",
    "<head>\n",
    "    <title>Exemple SVG</title>\n",
    "    <meta charset=\"utf-8\"/>\n",
    "</head>\n",
    "<body>\n",
    "    <svg width=\"400\" height=\"300\">\n",
    "        <rect width=\"100%\" height=\"100%\" stroke=\"black\" fill=\"none\"/>\n",
    "        <rect x=\"20\" y=\"20\" width=\"200\" height=\"200\" fill=\"red\"/>\n",
    "    </svg>\n",
    "</body>\n",
    "<html>\n",
    "```"
   ]
  },
  {
   "cell_type": "markdown",
   "metadata": {
    "hidden": true
   },
   "source": [
    "Par la suite, nous allons uniquement représenter la balise `svg`, voire uniquement des parties à l'intérieur de cette balise.\n",
    "\n",
    "Par contre, nous allons avoir des liens vers des exemples complets sur [jsbin.com](http://jsbin.com).\n",
    "\n",
    "Nous allons également voir des exemples à l'intérieur de ces notes, avec une instruction `%%html` à la première ligne, ligne qu'il faut simplement ignorer:"
   ]
  },
  {
   "cell_type": "code",
   "execution_count": 5,
   "metadata": {
    "collapsed": false,
    "hidden": true
   },
   "outputs": [
    {
     "data": {
      "text/html": [
       "<svg width=\"400\" height=\"200\">\n",
       "    <rect width=\"100%\" height=\"100%\" stroke=\"black\" fill=\"none\"/>\n",
       "    <rect x=\"20\" y=\"20\" width=\"200\" height=\"100\" fill=\"red\"/>\n",
       "</svg>"
      ],
      "text/plain": [
       "<IPython.core.display.HTML object>"
      ]
     },
     "metadata": {},
     "output_type": "display_data"
    }
   ],
   "source": [
    "%%html\n",
    "<svg width=\"400\" height=\"200\">\n",
    "    <rect width=\"100%\" height=\"100%\" stroke=\"black\" fill=\"none\"/>\n",
    "    <rect x=\"20\" y=\"20\" width=\"200\" height=\"100\" fill=\"red\"/>\n",
    "</svg>"
   ]
  },
  {
   "cell_type": "markdown",
   "metadata": {
    "hidden": true
   },
   "source": [
    "__Dans un graphique SVG nous indiquons toujours la largeur et hauteur__ (en pixels), à l'aide des attributs `width` et `height`.\n",
    "\n",
    "Le __système de coordonnées__ d'un graphique SVG possède son origine en haut à gauche, avec l'axe des x vers la droite, et l'axe des y vers le bas. Ainsi, le point 40/60 se trouve à 40 pixels à droite de la marge gauche du graphique, et 60 pixels du haut.\n",
    "\n",
    "<div style=\"text-align: center;\">\n",
    "<img src=\"https://developer.mozilla.org/@api/deki/files/78/=Canvas_default_grid.png\"/>\n",
    "<i style=\"font-size: 80%\">Source: <a href=\"https://developer.mozilla.org/en-US/docs/Web/SVG/Tutorial/Positions\">https://developer.mozilla.org/en-US/docs/Web/SVG/Tutorial/Positions</a></i>\n",
    "</div>\n",
    "\n",
    "Cette disposition des coordonnées sera importante pour calculer la position des éléments. Elle est notamment à l'inverse des coordonnées utilisées habituellement en maths."
   ]
  },
  {
   "cell_type": "markdown",
   "metadata": {
    "heading_collapsed": true
   },
   "source": [
    "## 2. Les géometries de base"
   ]
  },
  {
   "cell_type": "markdown",
   "metadata": {
    "heading_collapsed": true,
    "hidden": true
   },
   "source": [
    "### 2.1 Rectangle / carré"
   ]
  },
  {
   "cell_type": "markdown",
   "metadata": {
    "hidden": true
   },
   "source": [
    "Pour dessiner un __rectangle__ ou un __carré__ nous utilisons la balise __`<rect>`__:\n",
    "```html\n",
    "<rect x=\"40\" y=\"50\" width=\"100\" height=\"50\" />\n",
    "```"
   ]
  },
  {
   "cell_type": "markdown",
   "metadata": {
    "hidden": true
   },
   "source": [
    "Comme pour tous les éléments SVG, nous pouvons __définir le style__ à l'aide de quelques propriétés:\n",
    "\n",
    "- __stroke__: la couleur du contour. Peut être `none` en cas d'absence de contour.\n",
    "- __stroke-width__: l'épaisseur du contour en pixels. Des fractions de pixels sont possibles (p.ex. 0.4 pixels pour un trait fin)\n",
    "- __stroke-opacity__: l'opacité du contour (0 pour complètement transparent, 1 pour opacité complète)\n",
    "- __fill__: la couleur de remplissage.\n",
    "- __fill-opacity__: l'opcaité du remplissage (valeurs de 0 à 1)\n",
    "\n",
    "Ces propriétés peuvent être utilisées comme attributs de la balise ([exemple](http://jsbin.com/vexomay/edit?html,output)), ou à l'intérieur d'un attribut `style` ([exemple](http://jsbin.com/weyepev/edit?html,output)), ou encore dans un fichier CSS à part ([exemple](http://jsbin.com/wiloteh/edit?html,css,output)).\n",
    "\n",
    "Les couleurs peuvent être spécifiées de la même manière que dans le CSS.\n",
    "\n",
    "La liste complète des propriétés se trouve ici dans la spécification SVG: [https://www.w3.org/TR/SVG/styling.html](https://www.w3.org/TR/SVG/styling.html)"
   ]
  },
  {
   "cell_type": "markdown",
   "metadata": {
    "heading_collapsed": true,
    "hidden": true
   },
   "source": [
    "### 2.2 Cercle / ellipse"
   ]
  },
  {
   "cell_type": "markdown",
   "metadata": {
    "hidden": true
   },
   "source": [
    "Un cercle peut être représenté par la balise `<circle>` ([exemple](http://jsbin.com/vusegun/edit?html,output)):\n",
    "```html\n",
    "<circle cx=\"50\" cy=\"60\" r=\"40\" />\n",
    "```\n",
    "où `cx` et `cy` sont les coordonnées du centre du cercle et `r` le rayon.\n",
    "\n",
    "\n",
    "Une ellipse peut être dessinée avec la balise `<ellipse>` ([exemple](http://jsbin.com/jaroyo/edit?html,output)):\n",
    "```html\n",
    "<ellipse cx=\"200\" cy=\"150\" rx=\"180\" ry=\"100\" />\n",
    "```"
   ]
  },
  {
   "cell_type": "markdown",
   "metadata": {
    "heading_collapsed": true,
    "hidden": true
   },
   "source": [
    "### 2.3 Lignes"
   ]
  },
  {
   "cell_type": "markdown",
   "metadata": {
    "hidden": true
   },
   "source": [
    "Une ligne simple peut être créée avec la balise __`<line>`__ ([exemple](http://jsbin.com/niyapi/edit?html,output)):\n",
    "\n",
    "```html\n",
    "<line x1=\"10\" y1=\"150\" x2=\"390\" y2=\"100\" />\n",
    "```\n",
    "\n",
    "où `x1`, `y1` sont les coordonnées du point de départ, et `x2`, `y2` celles du point d'arrviée."
   ]
  },
  {
   "cell_type": "markdown",
   "metadata": {
    "hidden": true
   },
   "source": [
    "Il est également possible de dessiner une __polyligne__ avec __`<polyline>`__ ([exemple](http://jsbin.com/gecuho/edit?html,output)):\n",
    "\n",
    "```html\n",
    "<polyline points=\"10,10 40,60 100,60 120,40 220,40\" />\n",
    "```\n",
    "\n",
    "où `points` contient une liste de coordonnées. Notez que les valeurs x/y sont séparées par une virgule, et les différentes paires de coordonnées par des espaces."
   ]
  },
  {
   "cell_type": "markdown",
   "metadata": {
    "heading_collapsed": true,
    "hidden": true
   },
   "source": [
    "### 2.4 Polygones"
   ]
  },
  {
   "cell_type": "markdown",
   "metadata": {
    "hidden": true
   },
   "source": [
    "Un polygone peut être créé avec la balise `<polygon>` ([exemple](http://jsbin.com/rixicav/edit?html,output)):\n",
    "\n",
    "```html\n",
    "<polygon points=\"60,40 220,60 380,50 390,200, 20,250 70,100\" />\n",
    "```\n",
    "\n",
    "Les coordonnées sont données de la même manière que pour une polyligne. Le dernier point est automatiquement connecté au premier."
   ]
  },
  {
   "cell_type": "markdown",
   "metadata": {
    "heading_collapsed": true,
    "hidden": true
   },
   "source": [
    "### 2.5 Formes génériques, y compris courbes Bézier"
   ]
  },
  {
   "cell_type": "markdown",
   "metadata": {
    "hidden": true
   },
   "source": [
    "Les courbes Bézier sont des lignes avec une courbature définie par des points d'ancrage, comme p.ex."
   ]
  },
  {
   "cell_type": "code",
   "execution_count": 23,
   "metadata": {
    "collapsed": false,
    "hidden": true
   },
   "outputs": [
    {
     "data": {
      "text/html": [
       "<svg>\n",
       "    <path \n",
       "        d=\"M 10 80 C 40 10, 65 10, 95 80 S 150 150, 180 80\" \n",
       "        stroke=\"black\" stroke-width=\"2\" fill=\"transparent\"\n",
       "    />\n",
       "</svg>"
      ],
      "text/plain": [
       "<IPython.core.display.HTML object>"
      ]
     },
     "metadata": {},
     "output_type": "display_data"
    }
   ],
   "source": [
    "%%html\n",
    "<svg>\n",
    "    <path \n",
    "        d=\"M 10 80 C 40 10, 65 10, 95 80 S 150 150, 180 80\" \n",
    "        stroke=\"black\" stroke-width=\"2\" fill=\"transparent\"\n",
    "    />\n",
    "</svg>"
   ]
  },
  {
   "cell_type": "markdown",
   "metadata": {
    "hidden": true
   },
   "source": [
    "et voici la même courbe avec les points d'ancrage:"
   ]
  },
  {
   "cell_type": "markdown",
   "metadata": {
    "code_folding": [],
    "hidden": true
   },
   "source": [
    "<img src=figures/courbe-bezier-pts-controle.png style=\"max-width: 200px\"/><br><span style=\"font-size: 80%\">Source: http://jsbin.com/kivuqul/edit?html,output</span>"
   ]
  },
  {
   "cell_type": "markdown",
   "metadata": {
    "hidden": true
   },
   "source": [
    "Il s'agit en fait du même type de courbes que dans les logiciels de graphisme tel qu'Illustrator ou Inkscape.\n",
    "\n",
    "Les courbes Bézier, et autres formes géometriques, peuvent être représentées en SVG à l'aide de la balise __`<path>`__ que nous introduisons étape par étape. En principe, toutes les autres formes déjà vues plus haut peuvent être représentées par la balise `<path>`. Voici l'exemple d'une ligne simple:\n",
    "\n",
    "```html\n",
    "<path d=\"M 10 10 L 10 150 L 250 160 L 230 40 Z\" />\n",
    "```\n",
    "\n",
    "L'attribut `d` contient la description complète de la forme. L'idée est de __diriger un crayon virtuel__ à l'aide de commandes (= lettres) et des destinations (coordonnées), L'exemple ci-dessus peut être lu comme suit:\n",
    "\n",
    "- __`M10 10`__: déplace (___move___) le crayon à la position 10/10\n",
    "- __`L10 150`__: dessine une __ligne droite__ jusqu'à la position 10/150\n",
    "- _quelques autres séquences de lignes\n",
    "- __`Z`__ ferme le chemin pour former un polygone\n",
    "\n",
    "On peut également utiliser des lettres minuscules ensemble avec des coordonnées relatives par rapport à la position actuelle du crayon. L'exemple ci-dessus pourrait alors être représenté comme suit, de manière équivalente:\n",
    "\n",
    "<path d=\"M10 10 l 0 1 40 l 240 10 l -20 -120 Z\" />\n",
    "\n",
    "[Exemple et preuve ici](http://jsbin.com/rimefar/edit?html,output)"
   ]
  },
  {
   "cell_type": "markdown",
   "metadata": {
    "hidden": true
   },
   "source": [
    "D'autres commandes pour les `path` sont:\n",
    "\n",
    "- __H__ / __h__ pour une ligne horizontale\n",
    "- __V__ / __v__ pour une ligne verticale\n",
    "- __C__ / __c__ pour une courbe Bézier\n",
    "- __S__ / __s__ pour la suite d'une courbe Bézier avec un point de contrôle symétrique par rapport au point de contrôle précédent\n",
    "\n",
    "Voici un exemple qui illustre ces différentes commandes ([ici avec prévisualisation](http://jsbin.com/zaxasav/edit?html,output)):\n",
    "\n",
    "```html\n",
    "<path d=\"M 50 50 h 120 V 80 l -70 20 H 80 C 40 100, 40 160, 80 160 S 120 220, 80 220 h -70 z\" />\n",
    "```\n",
    "\n",
    "La syntaxe pour une courbe Bézier est la suivante:\n",
    "\n",
    "```\n",
    "C px1 py1, px2 py2, x y\n",
    "```\n",
    "\n",
    "- `px1/py1` est la coordonnée du premier point de contrôle\n",
    "- `px2/py2` est la coordonnée du deuxième point de contrôle\n",
    "- `x/y` est la coordonnée du point d'arrivée\n",
    "\n",
    "et avec une symétrie:\n",
    "\n",
    "```\n",
    "S px2 py2, x y\n",
    "```\n",
    "où le premier point de contrôle peut être omis puisqu'il est calculé par symétrie avec la courbe précédente.\n",
    "\n",
    "Dans la cartographie, les courbes Bézier sont généralement pas utilisées, en faveur d'un assez grand nombre de petites lignes droites."
   ]
  },
  {
   "cell_type": "markdown",
   "metadata": {
    "heading_collapsed": true
   },
   "source": [
    "## 3. Texte"
   ]
  },
  {
   "cell_type": "markdown",
   "metadata": {
    "hidden": true
   },
   "source": [
    "Il est facile d'inclure du texte dans un graphique SVG, à condition de se limiter sur une ligne de texte. En effet, le format SVG basique ne supporte pas les retours à la ligne automatiques.\n",
    "\n",
    "Voici un texte simple:\n",
    "```html\n",
    "<text x=\"10\" y=\"30\">Voici un texte simple!</text>\n",
    "```\n",
    "\n",
    "Bien évidemment, on peut appliquer un style CSS à ce texte. Voir un [exemple ici](http://jsbin.com/ticikos/edit?html,output).\n",
    "\n",
    "La coordonnée donnée par les attributs x/y correspondent au point inférieur à gauche du texte s'il est aligné à gauche. On peut aussi faire un alignement différent avec l'attribut `text-anchor` qui peut prendre les valeurs `start` (par défaut), `middle` ou `end` ([exemple](http://jsbin.com/midunac/edit?html,output)):\n",
    "\n",
    "```html\n",
    "<text x=\"150\" y=\"30\" text-anchor=\"middle\">Voici un texte simple!</text>\n",
    "```\n",
    "\n",
    "Il est possible de faire un texte avec plusieurs lignes avec la balise `<tspan>`:\n",
    "\n",
    "```html\n",
    "<text x=10 y=30>\n",
    "    <tspan>Lorem ipsum dolor sit amet,</tspan>\n",
    "    <tspan x=10 dy=24>consectetur adipiscing elit,</tspan>\n",
    "    <tspan x=10 dy=24>...</tspan>\n",
    "</text>\n",
    "```\n",
    "\n",
    "(Exemple complet ici)[http://jsbin.com/punebe/edit?html,output]\n",
    "\n",
    "L'attribut `dy` permet dans ce cas de décaler le nouveau texte de 24 pixels vers le bas, tandis que l'attribut `x` assure qu'on recommence au début du texte. Inutile de dire qu'écrire un text long et justifié est plutôt laborieux...\n",
    "\n",
    "Pour ceux qui connaissent l'outil texte d'Illustrator verront des parallèles avec le texte SVG...\n",
    "\n",
    "Par ailleurs, il est possible avec le texte SVG d'écrire dans des caractères non latins; voici un exemple en Persan, écrit de droite à gauche (notez l'utilisation du text-anchor et les valeurs de coordonnées différentes d'un texte écrit de gauche à droite) ([exemple complet](http://jsbin.com/wuzesaz/edit?html,output)):\n",
    "\n",
    "```html\n",
    "<svg width=\"300\" height=\"200\">\n",
    "    <text x=\"290\" y=\"30\">محمدرضا شجريان</text>\n",
    "</svg>\n",
    "```\n",
    "\n",
    "(ce qui est écrit c'est le nom de [Mohammad-Raza Shajarian](https://fr.wikipedia.org/wiki/Mohammad_Reza_Shadjarian), fameux chanteur iranien)."
   ]
  },
  {
   "cell_type": "markdown",
   "metadata": {
    "heading_collapsed": true
   },
   "source": [
    "## 4. Groupes"
   ]
  },
  {
   "cell_type": "markdown",
   "metadata": {
    "hidden": true
   },
   "source": [
    "\n",
    "En SVG, il est possible de grouper des éléments ensemble à l'aide de la balise __`g`__. C'est un similaire aux `div` en HTML, ou aux couches en Illustrator ou Inkscape.\n",
    "\n",
    "Ainsi, on peut par exemple appliquer des styles ou transformations (décrites plus loin) facilement à un ensemble d'élément. En plus, les groupes permettent d'organiser un peu notre code SVG pour le rendre plus structuré et plus lisible.\n",
    "\n",
    "Voici un [exemple simple](http://jsbin.com/jopefax/edit?html,output):\n",
    "```html\n",
    "<g id=groupe1>\n",
    "  <rect x=10 y=10 width=100 height=200 />\n",
    "  <rect x=120 y=20 width=80 height=180 />\n",
    "</g>\n",
    "<g id=groupe2>\n",
    "  <circle cx=110 cy=100 r=50 />\n",
    "</g>\n",
    "```"
   ]
  },
  {
   "cell_type": "markdown",
   "metadata": {
    "heading_collapsed": true,
    "hidden": true
   },
   "source": [
    "### 4.1 Ordre des éléments"
   ]
  },
  {
   "cell_type": "markdown",
   "metadata": {
    "hidden": true
   },
   "source": [
    "L'ordre des éléments SVG est important car il correspond à __l'ordre de dessin__. C'est-à-dire, dans l'exemple précédent, les éléments du groupe 2 sont dessinés par dessus ceux du groupe 1.\n",
    "\n",
    "Cet ordre de dessin devient crucial lorsqu'on fait des symboles proportionnels. [Voici un exemple](http://jsbin.com/yocozu/edit?html,output); notez l'ordre de dessin des cercles (observer l'attribut `r` pour le rayon)."
   ]
  },
  {
   "cell_type": "markdown",
   "metadata": {
    "heading_collapsed": true
   },
   "source": [
    "## 5. Symboles"
   ]
  },
  {
   "cell_type": "markdown",
   "metadata": {
    "hidden": true
   },
   "source": [
    "Il est possible en SVG de créer un élément en dehors du graphique et qui peut être réutilisé une ou plusieurs fois à l'intérieur du graphique. Ces éléments réutilisables sont des __symboles SVG__, définis au début du document SVG. Voici un [exemple de code](http://jsbin.com/radoyo/edit?html,output):\n",
    "\n",
    "```html\n",
    "<svg width=300 height=200>\n",
    "    <!-- Définition des symboles sans les dessiner -->\n",
    "    <symbol id=sens-unique viewBox=\"0 0 50 50\">\n",
    "      <circle cx=25 cy=25 r=25 fill=red />\n",
    "      <line x1=8 y1=25 x2=42 y2=25 stroke=white stroke-width=7 />\n",
    "    </symbol>\n",
    "    \n",
    "    <!-- Utilisation des symboles -->\n",
    "    <use href=#sens-unique x=30 y=60 width=40 height=40 />\n",
    "    <use href=#sens-unique x=100 y=120 width=25 height=25 />\n",
    "</svg>\n",
    "```\n",
    "\n",
    "La balise __`<symbol>`__ permet de définir le symbole, même complexe. Il est important de définir un `id`. La balise __`<use>`__ permet d'utiliser le symbole. La référence se fait avec l'attribut `href`. La taille du symbole peut alors varier sans problème."
   ]
  },
  {
   "cell_type": "markdown",
   "metadata": {
    "heading_collapsed": true
   },
   "source": [
    "## 6. Masque d'écrêtage"
   ]
  },
  {
   "cell_type": "markdown",
   "metadata": {
    "hidden": true
   },
   "source": [
    "La définition d'un masque d'écrêtage se fait en deux temps. D'abord on définit le masque à l'intérieur d'une balise __`<clipPath>`__, un peu similaire à la définition d'un symbole. Puis dans un deuxième temps on applique le masque. Voici un [exemple](http://jsbin.com/belipod/edit?html,output):\n",
    "\n",
    "```html\n",
    "  <svg width=300 height=200>\n",
    "    <clipPath id=\"masque\">\n",
    "      <rect x=20 y=20 width=260 height=160 />\n",
    "    </clipPath>\n",
    "    <g clip-path=\"url(#masque)\">\n",
    "      <circle cx=100 cy=200 r=100 fill=#933 />\n",
    "      <circle cx=200 cy=20 r=100 fill=#339 />\n",
    "    </g>\n",
    "  </svg>\n",
    "```\n",
    "\n",
    "Le masque peut être appliqué à un groupe, ou à un élément individuel.\n",
    "\n",
    "Dans l'exemple ci-dessus, et dans la plupart des situations réelles, le masque d'écrêtage est un rectangle. Mais en principe, ceci peut être n'importe quelle forme."
   ]
  },
  {
   "cell_type": "markdown",
   "metadata": {},
   "source": [
    "## 7. Transformations"
   ]
  },
  {
   "cell_type": "markdown",
   "metadata": {},
   "source": [
    "En SVG, on peut appliquer des transformations à n'importe quel élément, y compris des groupes. Parmi les transformations, on a la __translation__, __rotation__, __mise à l'échelle__ ainsi que toute [__application affine__](https://fr.wikipedia.org/wiki/Application_affine) définie par une [matrice de transformation](https://en.wikipedia.org/wiki/Transformation_matrix#Affine_transformations).\n",
    "\n",
    "Toute transformation est faite avec l'attribut `transform` (qui peut aussi se trouver dans un style CSS sauf pour Internet Explorer)."
   ]
  },
  {
   "cell_type": "markdown",
   "metadata": {},
   "source": [
    "Une __translation__ peut être faite avec l'attribut `translate(x y)`: [[exemple](http://jsbin.com/gaqowiq/edit?html,output)]\n",
    "\n",
    "```html\n",
    "<rect x=0 y=0 width=100 height=50 transform=\"translate(50 5)\" />\n",
    "```"
   ]
  },
  {
   "cell_type": "markdown",
   "metadata": {},
   "source": [
    "Une __rotation__ se fait avec `rotate(angle cx cy)` où cx/cy est le centre de la rotation, et `angle` la rotation en degrés. L'angle peut être négatif. [[exemple](http://jsbin.com/fiyequx/edit?html,output)]\n",
    "\n",
    "```html\n",
    "<ellipse cx=150 cy=100 rx=100 ry=50 transform=\"rotate(30 150 100)\"/>\n",
    "```\n",
    "\n",
    "Il est possible d'__enchaîner les transformations__:\n",
    "\n",
    "```html\n",
    "<ellipse cx=150 cy=100 rx=100 ry=50 fill=#933 transform=\"translate(0, 20) rotate(30 150 100)\"/>\n",
    "```\n",
    "\n",
    "Les transformations sont alors exécutées de droite à gauche (d'abord la rotation puis la translation dans l'exemple ci-dessus)."
   ]
  },
  {
   "cell_type": "markdown",
   "metadata": {},
   "source": [
    "La __mise à l'échelle__ fonctionne avec `scale(x y)` où x est le facteur en direction x, et y celui en direction y. Si x et y sont identiques, on peut omettre de l'écrire deux fois: [[exemple]()]\n",
    "\n",
    "```html\n",
    "<ellipse cx=150 cy=100 rx=100 ry=50 transform=\"scale(0.75)\"/>\n",
    "```\n",
    "\n",
    "La mise à l'échelle se fait par rapport à l'origine, une translation peut donc être nécessaire si on veut faire une mise à l'échelle sur place."
   ]
  },
  {
   "cell_type": "markdown",
   "metadata": {},
   "source": [
    "Finalement, on peut faire une __application affine__ en définissant les éléments de la matrice de transformation. Cette méthode permet de remplacer toutes les méthodes précédentes ainsi que d'exécuter plusieurs transformation à la fois.\n",
    "\n",
    "Ainsi, on peut écrire une rotation de 45° accompagnée d'une translation de la manière suivante: [[exemple](http://jsbin.com/tadoyiq/edit?html,output)]\n",
    "\n",
    "```html\n",
    "<ellipse cx=150 cy=100 rx=100 ry=50 \n",
    "    transform=\"matrix(0.7071 0.7071 -0.7071 0.7071 60 -60)\"\n",
    "/>\n",
    "```\n",
    "\n",
    "où la syntaxe de la matrice est `matrix(a b c d e f)` pour la transformation suivante:\n",
    "\n",
    "$$\\begin{bmatrix} x' \\\\ y' \\\\ 1 \\end{bmatrix} = \\begin{bmatrix} a & c & e \\\\ b & d & f \\\\ 0 & 0 & 1 \\end{bmatrix} \\begin{bmatrix} x \\\\ y \\\\ 1 \\end{bmatrix}$$\n",
    "\n",
    "Une rotation peut être définie comme suit:\n",
    "\n",
    "$$\\begin{bmatrix} x' \\\\ y' \\\\ 1 \\end{bmatrix} = \\begin{bmatrix} cos \\alpha & -sin \\alpha & 0 \\\\ sin \\alpha & cos \\alpha & 0 \\\\ 0 & 0 & 1 \\end{bmatrix} \\begin{bmatrix} x \\\\ y \\\\ 1 \\end{bmatrix}$$\n",
    "\n",
    "et une translation comme:\n",
    "\n",
    "$$\\begin{bmatrix} x' \\\\ y' \\\\ 1 \\end{bmatrix} = \\begin{bmatrix} 1 & 0 & d_x \\\\ 0 & 1 & d_y \\\\ 0 & 0 & 1 \\end{bmatrix} \\begin{bmatrix} x \\\\ y \\\\ 1 \\end{bmatrix}$$\n",
    "\n",
    "On retrouve ces deux transformations dans l'exemple ci-dessus ($cos(45°) = sin(45°) \\approx 0.7071$)."
   ]
  },
  {
   "cell_type": "markdown",
   "metadata": {},
   "source": [
    "Les transformations peuvent être utilisées par exemple pour afficher une carte en coordonnées projetées, simplement en faisant une mise à l'échelle et une translation. Ainsi, on peut mettre les coordonnées originales p.ex. dans la balise `<polgon>`. On peut alors appliquer la transformation une seule fois sur un groupe englobant l'ensemble des éléments de la carte."
   ]
  },
  {
   "cell_type": "markdown",
   "metadata": {},
   "source": [
    "  "
   ]
  }
 ],
 "metadata": {
  "kernelspec": {
   "display_name": "Python 3",
   "language": "python",
   "name": "python3"
  },
  "language_info": {
   "codemirror_mode": {
    "name": "ipython",
    "version": 3
   },
   "file_extension": ".py",
   "mimetype": "text/x-python",
   "name": "python",
   "nbconvert_exporter": "python",
   "pygments_lexer": "ipython3",
   "version": "3.6.0"
  },
  "latex_envs": {
   "LaTeX_envs_menu_present": true,
   "bibliofile": "biblio.bib",
   "cite_by": "apalike",
   "current_citInitial": 1,
   "eqLabelWithNumbers": true,
   "eqNumInitial": 1,
   "labels_anchors": false,
   "latex_user_defs": false,
   "report_style_numbering": false,
   "user_envs_cfg": false
  }
 },
 "nbformat": 4,
 "nbformat_minor": 2
}
